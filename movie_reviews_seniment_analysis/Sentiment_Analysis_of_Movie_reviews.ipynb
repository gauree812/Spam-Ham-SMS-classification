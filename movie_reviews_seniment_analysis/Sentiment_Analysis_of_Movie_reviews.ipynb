{
  "nbformat": 4,
  "nbformat_minor": 0,
  "metadata": {
    "colab": {
      "name": "Sentiment Analysis of Movie reviews.ipynb",
      "provenance": [],
      "collapsed_sections": [],
      "toc_visible": true,
      "include_colab_link": true
    },
    "kernelspec": {
      "name": "python3",
      "display_name": "Python 3"
    }
  },
  "cells": [
    {
      "cell_type": "markdown",
      "metadata": {
        "id": "view-in-github",
        "colab_type": "text"
      },
      "source": [
        "<a href=\"https://colab.research.google.com/github/gauree812/NLP/blob/main/movie_reviews_seniment_analysis/Sentiment_Analysis_of_Movie_reviews.ipynb\" target=\"_parent\"><img src=\"https://colab.research.google.com/assets/colab-badge.svg\" alt=\"Open In Colab\"/></a>"
      ]
    },
    {
      "cell_type": "markdown",
      "metadata": {
        "id": "ADb5s003AYYZ"
      },
      "source": [
        "# Sentiment Analysis of Movie reviews\r\n",
        "\r\n"
      ]
    },
    {
      "cell_type": "markdown",
      "metadata": {
        "id": "0m8inwYUTpoK"
      },
      "source": [
        "The sentiment labels are:\r\n",
        "\r\n",
        "0 - negative\r\n",
        "1 - somewhat negative\r\n",
        "2 - neutral\r\n",
        "3 - somewhat positive\r\n",
        "4 - positive"
      ]
    },
    {
      "cell_type": "markdown",
      "metadata": {
        "id": "rK17bNYOAVp6"
      },
      "source": [
        "## Exercise 1"
      ]
    },
    {
      "cell_type": "code",
      "metadata": {
        "id": "Hp34ylkyOrGi"
      },
      "source": [
        "##### Import necessary libraries\r\n",
        "import pandas as pd\r\n",
        "\r\n",
        "from sklearn.naive_bayes import MultinomialNB\r\n",
        "from sklearn.model_selection import train_test_split\r\n",
        "from sklearn.metrics import accuracy_score, precision_score, recall_score\r\n",
        "from sklearn.feature_extraction.text import CountVectorizer, TfidfVectorizer\r\n",
        "\r\n",
        "\r\n",
        "import re"
      ],
      "execution_count": 43,
      "outputs": []
    },
    {
      "cell_type": "markdown",
      "metadata": {
        "id": "di8LH-4xOnzM"
      },
      "source": [
        "1. Use the train.tsv dataset at https://www.kaggle.com/c/sentiment-analysis-onmovie-reviews/data\r\n"
      ]
    },
    {
      "cell_type": "code",
      "metadata": {
        "id": "nVLuhzfzSuKG",
        "colab": {
          "base_uri": "https://localhost:8080/",
          "height": 204
        },
        "outputId": "3723e33d-e317-4254-d29a-87971b0e7318"
      },
      "source": [
        "##### Read the zipped csv file\r\n",
        "movie_df = pd.read_csv('/content/train.tsv (1).zip', sep='\\t', compression='zip')\r\n",
        "movie_df.head()"
      ],
      "execution_count": 23,
      "outputs": [
        {
          "output_type": "execute_result",
          "data": {
            "text/html": [
              "<div>\n",
              "<style scoped>\n",
              "    .dataframe tbody tr th:only-of-type {\n",
              "        vertical-align: middle;\n",
              "    }\n",
              "\n",
              "    .dataframe tbody tr th {\n",
              "        vertical-align: top;\n",
              "    }\n",
              "\n",
              "    .dataframe thead th {\n",
              "        text-align: right;\n",
              "    }\n",
              "</style>\n",
              "<table border=\"1\" class=\"dataframe\">\n",
              "  <thead>\n",
              "    <tr style=\"text-align: right;\">\n",
              "      <th></th>\n",
              "      <th>PhraseId</th>\n",
              "      <th>SentenceId</th>\n",
              "      <th>Phrase</th>\n",
              "      <th>Sentiment</th>\n",
              "    </tr>\n",
              "  </thead>\n",
              "  <tbody>\n",
              "    <tr>\n",
              "      <th>0</th>\n",
              "      <td>1</td>\n",
              "      <td>1</td>\n",
              "      <td>A series of escapades demonstrating the adage ...</td>\n",
              "      <td>1</td>\n",
              "    </tr>\n",
              "    <tr>\n",
              "      <th>1</th>\n",
              "      <td>2</td>\n",
              "      <td>1</td>\n",
              "      <td>A series of escapades demonstrating the adage ...</td>\n",
              "      <td>2</td>\n",
              "    </tr>\n",
              "    <tr>\n",
              "      <th>2</th>\n",
              "      <td>3</td>\n",
              "      <td>1</td>\n",
              "      <td>A series</td>\n",
              "      <td>2</td>\n",
              "    </tr>\n",
              "    <tr>\n",
              "      <th>3</th>\n",
              "      <td>4</td>\n",
              "      <td>1</td>\n",
              "      <td>A</td>\n",
              "      <td>2</td>\n",
              "    </tr>\n",
              "    <tr>\n",
              "      <th>4</th>\n",
              "      <td>5</td>\n",
              "      <td>1</td>\n",
              "      <td>series</td>\n",
              "      <td>2</td>\n",
              "    </tr>\n",
              "  </tbody>\n",
              "</table>\n",
              "</div>"
            ],
            "text/plain": [
              "   PhraseId  ...  Sentiment\n",
              "0         1  ...          1\n",
              "1         2  ...          2\n",
              "2         3  ...          2\n",
              "3         4  ...          2\n",
              "4         5  ...          2\n",
              "\n",
              "[5 rows x 4 columns]"
            ]
          },
          "metadata": {
            "tags": []
          },
          "execution_count": 23
        }
      ]
    },
    {
      "cell_type": "markdown",
      "metadata": {
        "id": "yZGHyputAsLd"
      },
      "source": [
        "2. Take a look at the data and get info about the data\r\n"
      ]
    },
    {
      "cell_type": "code",
      "metadata": {
        "id": "q4vkg6_DTLGC",
        "colab": {
          "base_uri": "https://localhost:8080/"
        },
        "outputId": "81775cf1-e3ac-4c75-8614-62606af41494"
      },
      "source": [
        "movie_df.info()"
      ],
      "execution_count": 24,
      "outputs": [
        {
          "output_type": "stream",
          "text": [
            "<class 'pandas.core.frame.DataFrame'>\n",
            "RangeIndex: 156060 entries, 0 to 156059\n",
            "Data columns (total 4 columns):\n",
            " #   Column      Non-Null Count   Dtype \n",
            "---  ------      --------------   ----- \n",
            " 0   PhraseId    156060 non-null  int64 \n",
            " 1   SentenceId  156060 non-null  int64 \n",
            " 2   Phrase      156060 non-null  object\n",
            " 3   Sentiment   156060 non-null  int64 \n",
            "dtypes: int64(3), object(1)\n",
            "memory usage: 4.8+ MB\n"
          ],
          "name": "stdout"
        }
      ]
    },
    {
      "cell_type": "code",
      "metadata": {
        "id": "dn8PvcvdV-1N",
        "colab": {
          "base_uri": "https://localhost:8080/"
        },
        "outputId": "91330dd6-fc9a-41ab-9fa8-33bf5d35219d"
      },
      "source": [
        "movie_df.shape"
      ],
      "execution_count": 25,
      "outputs": [
        {
          "output_type": "execute_result",
          "data": {
            "text/plain": [
              "(156060, 4)"
            ]
          },
          "metadata": {
            "tags": []
          },
          "execution_count": 25
        }
      ]
    },
    {
      "cell_type": "code",
      "metadata": {
        "id": "kHBTM0fgWVMk",
        "colab": {
          "base_uri": "https://localhost:8080/"
        },
        "outputId": "f2d1f7e9-7084-4dcc-dd13-88ffb4798829"
      },
      "source": [
        "movie_df.isnull().sum()"
      ],
      "execution_count": 26,
      "outputs": [
        {
          "output_type": "execute_result",
          "data": {
            "text/plain": [
              "PhraseId      0\n",
              "SentenceId    0\n",
              "Phrase        0\n",
              "Sentiment     0\n",
              "dtype: int64"
            ]
          },
          "metadata": {
            "tags": []
          },
          "execution_count": 26
        }
      ]
    },
    {
      "cell_type": "markdown",
      "metadata": {
        "id": "f8j72nM0AyJB"
      },
      "source": [
        "3. Count the number of expressed sentiments by category\r\n"
      ]
    },
    {
      "cell_type": "code",
      "metadata": {
        "id": "F61BNJGgTPKi",
        "colab": {
          "base_uri": "https://localhost:8080/"
        },
        "outputId": "57669455-7139-4b7d-943c-cdeb301fd1d9"
      },
      "source": [
        "movie_df['Sentiment'].value_counts()"
      ],
      "execution_count": 27,
      "outputs": [
        {
          "output_type": "execute_result",
          "data": {
            "text/plain": [
              "2    79582\n",
              "3    32927\n",
              "1    27273\n",
              "4     9206\n",
              "0     7072\n",
              "Name: Sentiment, dtype: int64"
            ]
          },
          "metadata": {
            "tags": []
          },
          "execution_count": 27
        }
      ]
    },
    {
      "cell_type": "markdown",
      "metadata": {
        "id": "emCS-jdjA2ZC"
      },
      "source": [
        "4. Provide a histogram of sentiments by category\r\n"
      ]
    },
    {
      "cell_type": "code",
      "metadata": {
        "id": "YIiOD9LXTr1z",
        "colab": {
          "base_uri": "https://localhost:8080/",
          "height": 315
        },
        "outputId": "141c3262-f808-4837-ec22-bf89abe719d4"
      },
      "source": [
        "movie_df.hist('Sentiment')"
      ],
      "execution_count": 28,
      "outputs": [
        {
          "output_type": "execute_result",
          "data": {
            "text/plain": [
              "array([[<matplotlib.axes._subplots.AxesSubplot object at 0x7f60a5ed9278>]],\n",
              "      dtype=object)"
            ]
          },
          "metadata": {
            "tags": []
          },
          "execution_count": 28
        },
        {
          "output_type": "display_data",
          "data": {
            "image/png": "[encoded data removed]",
            "text/plain": [
              "<Figure size 432x288 with 1 Axes>"
            ]
          },
          "metadata": {
            "tags": [],
            "needs_background": "light"
          }
        }
      ]
    },
    {
      "cell_type": "markdown",
      "metadata": {
        "id": "W5a8QC1ZA53U"
      },
      "source": [
        "5. Generate document term matrix by using scikit-learn's **CountVectorizer**. Tokenize\r\n",
        "and remove symbols and numbers\r\n"
      ]
    },
    {
      "cell_type": "code",
      "metadata": {
        "id": "2jdhaDcwUAjm"
      },
      "source": [
        "def clean_text(phrase):\r\n",
        "  text=re.sub(\"\\\\W\",\" \",phrase) # remove special chars\r\n",
        "  tokens = re.split('\\\\s', text.lower())\r\n",
        "  tokens = [token for token in tokens if re.match('\\D', token)]\r\n",
        "  return tokens"
      ],
      "execution_count": 30,
      "outputs": []
    },
    {
      "cell_type": "code",
      "metadata": {
        "id": "6jLffS-PVPQa",
        "colab": {
          "base_uri": "https://localhost:8080/"
        },
        "outputId": "6693509c-a913-4fee-892c-d61cd6904322"
      },
      "source": [
        "cv = CountVectorizer(analyzer=clean_text)\r\n",
        "X_cv = cv.fit_transform(movie_df['Phrase'])\r\n",
        "print(X_cv.shape)\r\n",
        "print(X_cv[0])"
      ],
      "execution_count": 40,
      "outputs": [
        {
          "output_type": "stream",
          "text": [
            "(156060, 15125)\n",
            "  (0, 0)\t2\n",
            "  (0, 11715)\t1\n",
            "  (0, 9101)\t4\n",
            "  (0, 4441)\t1\n",
            "  (0, 3353)\t1\n",
            "  (0, 13384)\t3\n",
            "  (0, 148)\t1\n",
            "  (0, 13382)\t1\n",
            "  (0, 14753)\t1\n",
            "  (0, 7085)\t2\n",
            "  (0, 5687)\t2\n",
            "  (0, 5188)\t2\n",
            "  (0, 5703)\t1\n",
            "  (0, 389)\t1\n",
            "  (0, 5461)\t1\n",
            "  (0, 12302)\t1\n",
            "  (0, 14770)\t2\n",
            "  (0, 9078)\t1\n",
            "  (0, 462)\t1\n",
            "  (0, 1740)\t1\n",
            "  (0, 8958)\t1\n",
            "  (0, 453)\t1\n",
            "  (0, 13560)\t1\n",
            "  (0, 8679)\t1\n",
            "  (0, 12735)\t1\n"
          ],
          "name": "stdout"
        }
      ]
    },
    {
      "cell_type": "markdown",
      "metadata": {
        "id": "skayzrX3BCNh"
      },
      "source": [
        "6. Split dataset (the test dataset represents 30% of the total data).\r\n"
      ]
    },
    {
      "cell_type": "code",
      "metadata": {
        "id": "r_ReXf1XybNA"
      },
      "source": [
        "X_train, X_test, y_train, y_test = train_test_split(X_cv, movie_df['Sentiment'], test_size=0.3)"
      ],
      "execution_count": 33,
      "outputs": []
    },
    {
      "cell_type": "markdown",
      "metadata": {
        "id": "DRI5Bt8rBRcO"
      },
      "source": [
        "7. Import the MultinomialNB module and create a Multinomial Naive Bayes classifier object using MultinomialNB() function. Compute the model accuracy.\r\n"
      ]
    },
    {
      "cell_type": "code",
      "metadata": {
        "id": "ouyL62Sz5PC-"
      },
      "source": [
        "mnb = MultinomialNB()\r\n",
        "mnb.fit(X_train, y_train)\r\n",
        "y_pred_test = mnb.predict(X_test)\r\n",
        "y_pred_train = mnb.predict(X_train)"
      ],
      "execution_count": 34,
      "outputs": []
    },
    {
      "cell_type": "code",
      "metadata": {
        "colab": {
          "base_uri": "https://localhost:8080/"
        },
        "id": "hCH1NJ0110-V",
        "outputId": "a400d845-7543-46b6-fd5f-533b7591f766"
      },
      "source": [
        "print('Test accuracy score: {}' .format(accuracy_score(y_test, y_pred_test)))\r\n",
        "print('Train accuracy score: {}' .format(accuracy_score(y_train, y_pred_train)))"
      ],
      "execution_count": 35,
      "outputs": [
        {
          "output_type": "stream",
          "text": [
            "Test accuracy score: 0.6103848946986202\n",
            "Train accuracy score: 0.6767177459218982\n"
          ],
          "name": "stdout"
        }
      ]
    },
    {
      "cell_type": "markdown",
      "metadata": {
        "id": "RvfOcMYXBYF2"
      },
      "source": [
        "8. **TF-IDF(Term Frequency-Inverse Document Frequency)** normalizes the\r\n",
        "document term matrix. It is the product of TF and IDF. Word with high tf-idf in a\r\n",
        "document, it is most of the times occurred in given documents and must be\r\n",
        "absent in the other documents. So, the words must be a signature word. Use\r\n",
        "TfidfVectorizer() for 'Phrase'.\r\n"
      ]
    },
    {
      "cell_type": "code",
      "metadata": {
        "colab": {
          "base_uri": "https://localhost:8080/"
        },
        "id": "Z8dskekI65GZ",
        "outputId": "760739be-309b-4ecf-cfb4-01a734fa2f79"
      },
      "source": [
        "tfidf_vect = TfidfVectorizer(analyzer=clean_text)\r\n",
        "X_tfidf = tfidf_vect.fit_transform(movie_df['Phrase'])\r\n",
        "print(X_tfidf.shape)\r\n",
        "print(X_tfidf[0])"
      ],
      "execution_count": 42,
      "outputs": [
        {
          "output_type": "stream",
          "text": [
            "(156060, 15125)\n",
            "  (0, 12735)\t0.12678770652140067\n",
            "  (0, 8679)\t0.13425633366832057\n",
            "  (0, 13560)\t0.07551633764530875\n",
            "  (0, 453)\t0.21884443140973872\n",
            "  (0, 8958)\t0.18826469496971762\n",
            "  (0, 1740)\t0.10942207977901906\n",
            "  (0, 462)\t0.26121703075665453\n",
            "  (0, 9078)\t0.19140005186596154\n",
            "  (0, 14770)\t0.28462026859385586\n",
            "  (0, 12302)\t0.1370045121393805\n",
            "  (0, 5461)\t0.26357464344537446\n",
            "  (0, 389)\t0.16008883358496123\n",
            "  (0, 5703)\t0.2269253613590395\n",
            "  (0, 5188)\t0.20174720448396904\n",
            "  (0, 5687)\t0.2603359647072429\n",
            "  (0, 7085)\t0.17376458863008\n",
            "  (0, 14753)\t0.134309472702058\n",
            "  (0, 13382)\t0.0890742903865971\n",
            "  (0, 148)\t0.2490350286604832\n",
            "  (0, 13384)\t0.17542146593507515\n",
            "  (0, 3353)\t0.24642880874656695\n",
            "  (0, 4441)\t0.2762105337016567\n",
            "  (0, 9101)\t0.2683549259077713\n",
            "  (0, 11715)\t0.17472668303049782\n",
            "  (0, 0)\t0.1290226705971528\n"
          ],
          "name": "stdout"
        }
      ]
    },
    {
      "cell_type": "markdown",
      "metadata": {
        "id": "zcwXvlSYBcQ_"
      },
      "source": [
        "9. Split dataset by using function train_test_split(). You need to pass basically 3\r\n",
        "parameters features, target, and test_set size. Additionally, you can use\r\n",
        "random_state to select records randomly.\r\n",
        "10. Build the Text Classification Model using TF-IDF.\r\n",
        "11. First, import the MultinomialNB module and create the Multinomial Naive Bayes\r\n",
        "classifier object using MultinomialNB() function.\r\n",
        "12. Then, fit your model on a train set using fit() and perform prediction on the test\r\n",
        "set using predict()."
      ]
    },
    {
      "cell_type": "code",
      "metadata": {
        "id": "iY1XmMDU8RyT"
      },
      "source": [
        "X_train, X_test, y_train, y_test = train_test_split(X_tfidf, movie_df['Sentiment'], test_size = 0.3, random_state = 21)\r\n",
        "mnb.fit(X_train, y_train)\r\n",
        "y_pred_test = mnb.predict(X_test)\r\n",
        "y_pred_train = mnb.predict(X_train)"
      ],
      "execution_count": 37,
      "outputs": []
    },
    {
      "cell_type": "code",
      "metadata": {
        "colab": {
          "base_uri": "https://localhost:8080/"
        },
        "id": "09wP_Klr9bOL",
        "outputId": "7765ad06-1018-44ea-b653-da83156d0d10"
      },
      "source": [
        "print('Test accuracy score: {}' .format(accuracy_score(y_test, y_pred_test)))\r\n",
        "print('Train accuracy score: {}' .format(accuracy_score(y_train, y_pred_train)))"
      ],
      "execution_count": 38,
      "outputs": [
        {
          "output_type": "stream",
          "text": [
            "Test accuracy score: 0.5812294416677346\n",
            "Train accuracy score: 0.6298676333278409\n"
          ],
          "name": "stdout"
        }
      ]
    }
  ]
}